{
 "cells": [
  {
   "cell_type": "code",
   "execution_count": 1,
   "id": "dffb9f5f",
   "metadata": {},
   "outputs": [
    {
     "name": "stdout",
     "output_type": "stream",
     "text": [
      "ok\n"
     ]
    }
   ],
   "source": [
    "print(\"ok\")"
   ]
  },
  {
   "cell_type": "code",
   "execution_count": 2,
   "id": "5da89c16",
   "metadata": {},
   "outputs": [
    {
     "data": {
      "text/plain": [
       "'c:\\\\Users\\\\sanna\\\\OneDrive\\\\Desktop\\\\GenAI\\\\projects\\\\Medical chatbot\\\\End-to-end-Medical-Chtabot\\\\research'"
      ]
     },
     "execution_count": 2,
     "metadata": {},
     "output_type": "execute_result"
    }
   ],
   "source": [
    "%pwd"
   ]
  },
  {
   "cell_type": "code",
   "execution_count": 3,
   "id": "1c1e9095",
   "metadata": {},
   "outputs": [],
   "source": [
    "import os\n",
    "os.chdir(\"../\")"
   ]
  },
  {
   "cell_type": "code",
   "execution_count": 4,
   "id": "18b36116",
   "metadata": {},
   "outputs": [
    {
     "data": {
      "text/plain": [
       "'c:\\\\Users\\\\sanna\\\\OneDrive\\\\Desktop\\\\GenAI\\\\projects\\\\Medical chatbot\\\\End-to-end-Medical-Chtabot'"
      ]
     },
     "execution_count": 4,
     "metadata": {},
     "output_type": "execute_result"
    }
   ],
   "source": [
    "%pwd"
   ]
  },
  {
   "cell_type": "code",
   "execution_count": 5,
   "id": "4b603861",
   "metadata": {},
   "outputs": [],
   "source": [
    "from langchain_community.document_loaders import PyPDFLoader, DirectoryLoader\n",
    "from langchain.text_splitter import RecursiveCharacterTextSplitter"
   ]
  },
  {
   "cell_type": "code",
   "execution_count": 6,
   "id": "9c5819f6",
   "metadata": {},
   "outputs": [],
   "source": [
    "#extract data from the pdf\n",
    "def load_pdf_file(data):\n",
    "    loader = DirectoryLoader(\n",
    "        data,\n",
    "        glob=\"*.pdf\",\n",
    "        loader_cls=PyPDFLoader\n",
    "    )\n",
    "    documents = loader.load()\n",
    "\n",
    "    return documents"
   ]
  },
  {
   "cell_type": "code",
   "execution_count": 7,
   "id": "30272692",
   "metadata": {},
   "outputs": [],
   "source": [
    "extracted_data = load_pdf_file(data= \"Data/\")"
   ]
  },
  {
   "cell_type": "code",
   "execution_count": 8,
   "id": "959b52ee",
   "metadata": {},
   "outputs": [],
   "source": [
    "#extracted_data"
   ]
  },
  {
   "cell_type": "code",
   "execution_count": 9,
   "id": "dea27ee5",
   "metadata": {},
   "outputs": [],
   "source": [
    "#chunk the extracted data\n",
    "\n",
    "def text_split(extracted_data):\n",
    "    text_splitter = RecursiveCharacterTextSplitter(chunk_size = 500, chunk_overlap =20)\n",
    "    text_chunks = text_splitter.split_documents(extracted_data)\n",
    "    return text_chunks"
   ]
  },
  {
   "cell_type": "code",
   "execution_count": 10,
   "id": "69e55efe",
   "metadata": {},
   "outputs": [
    {
     "name": "stdout",
     "output_type": "stream",
     "text": [
      "5860\n"
     ]
    }
   ],
   "source": [
    "text_chunks = text_split(extracted_data)\n",
    "print(len(text_chunks))"
   ]
  },
  {
   "cell_type": "code",
   "execution_count": null,
   "id": "80027cd5",
   "metadata": {},
   "outputs": [],
   "source": [
    "#Convert chunks to embeddings\n",
    "from langchain_google_genai import GoogleGenerativeAIEmbeddings\n",
    "\n",
    "def download_hugginface_embeddings():\n",
    "    embeddings = GoogleGenerativeAIEmbeddings(model=\"models/embedding-001\")\n",
    "    return embeddings\n"
   ]
  },
  {
   "cell_type": "code",
   "execution_count": null,
   "id": "70b7d49d",
   "metadata": {},
   "outputs": [],
   "source": [
    "pip install -U sentence_transformers"
   ]
  },
  {
   "cell_type": "code",
   "execution_count": 14,
   "id": "13a42b5e",
   "metadata": {},
   "outputs": [
    {
     "name": "stdout",
     "output_type": "stream",
     "text": [
      "Note: you may need to restart the kernel to use updated packages.\n"
     ]
    },
    {
     "name": "stderr",
     "output_type": "stream",
     "text": [
      "WARNING: Package(s) not found: sentence_tranformers\n"
     ]
    }
   ],
   "source": [
    "pip show sentence_tranformers"
   ]
  },
  {
   "cell_type": "code",
   "execution_count": null,
   "id": "7641e4b8",
   "metadata": {},
   "outputs": [
    {
     "name": "stderr",
     "output_type": "stream",
     "text": [
      "C:\\Users\\sanna\\AppData\\Local\\Temp\\ipykernel_1904\\3968731011.py:3: LangChainDeprecationWarning: The class `HuggingFaceEmbeddings` was deprecated in LangChain 0.2.2 and will be removed in 1.0. An updated version of the class exists in the :class:`~langchain-huggingface package and should be used instead. To use it run `pip install -U :class:`~langchain-huggingface` and import as `from :class:`~langchain_huggingface import HuggingFaceEmbeddings``.\n",
      "  embeddings = HuggingFaceEmbeddings(model_name='sentence-transformers/all-MiniLM-L6-v2')\n",
      "c:\\Users\\sanna\\conda\\anaconda3\\envs\\medibot\\lib\\site-packages\\tqdm\\auto.py:21: TqdmWarning: IProgress not found. Please update jupyter and ipywidgets. See https://ipywidgets.readthedocs.io/en/stable/user_install.html\n",
      "  from .autonotebook import tqdm as notebook_tqdm\n",
      "c:\\Users\\sanna\\conda\\anaconda3\\envs\\medibot\\lib\\site-packages\\huggingface_hub\\file_download.py:144: UserWarning: `huggingface_hub` cache-system uses symlinks by default to efficiently store duplicated files but your machine does not support them in C:\\Users\\sanna\\.cache\\huggingface\\hub\\models--sentence-transformers--all-MiniLM-L6-v2. Caching files will still work but in a degraded version that might require more space on your disk. This warning can be disabled by setting the `HF_HUB_DISABLE_SYMLINKS_WARNING` environment variable. For more details, see https://huggingface.co/docs/huggingface_hub/how-to-cache#limitations.\n",
      "To support symlinks on Windows, you either need to activate Developer Mode or to run Python as an administrator. In order to activate developer mode, see this article: https://docs.microsoft.com/en-us/windows/apps/get-started/enable-your-device-for-development\n",
      "  warnings.warn(message)\n",
      "Xet Storage is enabled for this repo, but the 'hf_xet' package is not installed. Falling back to regular HTTP download. For better performance, install the package with: `pip install huggingface_hub[hf_xet]` or `pip install hf_xet`\n"
     ]
    }
   ],
   "source": [
    "embeddings = download_hugginface_embeddings()"
   ]
  },
  {
   "cell_type": "code",
   "execution_count": 17,
   "id": "9af38ed3",
   "metadata": {},
   "outputs": [
    {
     "name": "stdout",
     "output_type": "stream",
     "text": [
      "384\n"
     ]
    }
   ],
   "source": [
    "query_result = embeddings.embed_query(\"Hello world\")\n",
    "print(len(query_result))"
   ]
  },
  {
   "cell_type": "code",
   "execution_count": null,
   "id": "f9b348fc",
   "metadata": {},
   "outputs": [],
   "source": [
    "#query_result"
   ]
  },
  {
   "cell_type": "code",
   "execution_count": 58,
   "id": "ce212065",
   "metadata": {},
   "outputs": [],
   "source": [
    "from dotenv import load_dotenv\n",
    "load_dotenv()\n",
    "PINECONE_API_KEY=os.environ.get('PINECONE_API_KEY')\n",
    "HUGGING_FACE_API_KEY = os.environ.get('HUGGINGFACE_API_KEY')"
   ]
  },
  {
   "cell_type": "code",
   "execution_count": 22,
   "id": "c35c139a",
   "metadata": {},
   "outputs": [
    {
     "data": {
      "text/plain": [
       "{\n",
       "    \"name\": \"medicalbot\",\n",
       "    \"metric\": \"cosine\",\n",
       "    \"host\": \"medicalbot-a9pv7l5.svc.aped-4627-b74a.pinecone.io\",\n",
       "    \"spec\": {\n",
       "        \"serverless\": {\n",
       "            \"cloud\": \"aws\",\n",
       "            \"region\": \"us-east-1\"\n",
       "        }\n",
       "    },\n",
       "    \"status\": {\n",
       "        \"ready\": true,\n",
       "        \"state\": \"Ready\"\n",
       "    },\n",
       "    \"vector_type\": \"dense\",\n",
       "    \"dimension\": 384,\n",
       "    \"deletion_protection\": \"disabled\",\n",
       "    \"tags\": null\n",
       "}"
      ]
     },
     "execution_count": 22,
     "metadata": {},
     "output_type": "execute_result"
    }
   ],
   "source": [
    "from pinecone.grpc import PineconeGRPC as Pinecone\n",
    "from pinecone import ServerlessSpec\n",
    "\n",
    "pc = Pinecone(api_key=PINECONE_API_KEY)\n",
    "\n",
    "index_name =\"medicalbot\"\n",
    "\n",
    "pc.create_index(\n",
    "    name=index_name,\n",
    "    dimension=384,\n",
    "    metric=\"cosine\",\n",
    "    spec=ServerlessSpec(\n",
    "        cloud=\"aws\",\n",
    "        region=\"us-east-1\"\n",
    "    )\n",
    ")\n",
    "\n"
   ]
  },
  {
   "cell_type": "code",
   "execution_count": 59,
   "id": "2b361bb6",
   "metadata": {},
   "outputs": [],
   "source": [
    "import os \n",
    "os.environ[\"PINECONE_API_KEY\"] = PINECONE_API_KEY\n",
    "os.environ[\"HUGGING_FACE_API_KEY\"] = HUGGING_FACE_API_KEY"
   ]
  },
  {
   "cell_type": "code",
   "execution_count": 24,
   "id": "b00834f6",
   "metadata": {},
   "outputs": [],
   "source": [
    "from langchain_pinecone import PineconeVectorStore\n",
    "\n",
    "docsearch = PineconeVectorStore.from_documents(\n",
    "    documents=text_chunks,\n",
    "    index_name=index_name,\n",
    "    embedding=embeddings\n",
    ")\n",
    "\n"
   ]
  },
  {
   "cell_type": "code",
   "execution_count": null,
   "id": "7ff992ed",
   "metadata": {},
   "outputs": [],
   "source": [
    "#if we need to load the existing index \n",
    "\n",
    "docsearch = PineconeVectorStore.from_existing_index(\n",
    "    index_name=index_name,\n",
    "    embedding=embeddings\n",
    ")\n"
   ]
  },
  {
   "cell_type": "code",
   "execution_count": null,
   "id": "c3a3ef14",
   "metadata": {},
   "outputs": [],
   "source": [
    "#semantic index vector store\n",
    "retriever = docsearch.as_retriever(search_type=\"similarity\", search_kwargs={\"k\":3})"
   ]
  },
  {
   "cell_type": "code",
   "execution_count": 37,
   "id": "6663a29f",
   "metadata": {},
   "outputs": [],
   "source": [
    "#Ranked results\n",
    "retrived_docs = retriever.invoke(\"what is Acne?\")"
   ]
  },
  {
   "cell_type": "code",
   "execution_count": 38,
   "id": "57474607",
   "metadata": {},
   "outputs": [
    {
     "data": {
      "text/plain": [
       "[Document(id='c552ce7c-4326-423a-8575-3006992f8382', metadata={'creationdate': '2004-12-18T17:00:02-05:00', 'creator': 'PyPDF', 'moddate': '2004-12-18T16:15:31-06:00', 'page': 39.0, 'page_label': '40', 'producer': 'PDFlib+PDI 5.0.0 (SunOS)', 'source': 'Data\\\\Medical_book.pdf', 'total_pages': 637.0}, page_content='GALE ENCYCLOPEDIA OF MEDICINE 226\\nAcne\\nGEM - 0001 to 0432 - A  10/22/03 1:41 PM  Page 26'),\n",
       " Document(id='9a498a67-f093-4757-b55a-56c75f8cf191', metadata={'creationdate': '2004-12-18T17:00:02-05:00', 'creator': 'PyPDF', 'moddate': '2004-12-18T16:15:31-06:00', 'page': 38.0, 'page_label': '39', 'producer': 'PDFlib+PDI 5.0.0 (SunOS)', 'source': 'Data\\\\Medical_book.pdf', 'total_pages': 637.0}, page_content='GALE ENCYCLOPEDIA OF MEDICINE 2 25\\nAcne\\nAcne vulgaris affecting a woman’s face. Acne is the general\\nname given to a skin disorder in which the sebaceous\\nglands become inflamed.(Photograph by Biophoto Associ-\\nates, Photo Researchers, Inc. Reproduced by permission.)\\nGEM - 0001 to 0432 - A  10/22/03 1:41 PM  Page 25'),\n",
       " Document(id='ea6961ce-cd55-42ef-8478-c473849b216d', metadata={'creationdate': '2004-12-18T17:00:02-05:00', 'creator': 'PyPDF', 'moddate': '2004-12-18T16:15:31-06:00', 'page': 37.0, 'page_label': '38', 'producer': 'PDFlib+PDI 5.0.0 (SunOS)', 'source': 'Data\\\\Medical_book.pdf', 'total_pages': 637.0}, page_content='Acidosis see Respiratory acidosis; Renal\\ntubular acidosis; Metabolic acidosis\\nAcne\\nDefinition\\nAcne is a common skin disease characterized by\\npimples on the face, chest, and back. It occurs when the\\npores of the skin become clogged with oil, dead skin\\ncells, and bacteria.\\nDescription\\nAcne vulgaris, the medical term for common acne, is\\nthe most common skin disease. It affects nearly 17 million\\npeople in the United States. While acne can arise at any')]"
      ]
     },
     "execution_count": 38,
     "metadata": {},
     "output_type": "execute_result"
    }
   ],
   "source": [
    "retrived_docs"
   ]
  },
  {
   "cell_type": "code",
   "execution_count": 62,
   "id": "7dda968a",
   "metadata": {},
   "outputs": [],
   "source": [
    "from langchain.chains import create_retrieval_chain\n",
    "from langchain.chains.combine_documents import create_stuff_documents_chain\n",
    "from langchain_core.prompts import ChatPromptTemplate\n",
    "\n",
    "\n",
    "system_prompt = (\n",
    "    \"You are an assistant for question-answering tasks. \"\n",
    "    \"Use the following pieces of retrieved context to answer \"\n",
    "    \"the question. If you don't know the answer, say that you \"\n",
    "    \"don't know. Use three sentences maximum and keep the \"\n",
    "    \"answer concise.\"\n",
    "    \"\\n\\n\"\n",
    "    \"{context}\"\n",
    ")\n",
    "\n",
    "prompt = ChatPromptTemplate(\n",
    "    [\n",
    "        (\"system\", system_prompt),\n",
    "        (\"human\", \"{input}\"),\n",
    "    ]\n",
    ")"
   ]
  },
  {
   "cell_type": "code",
   "execution_count": null,
   "id": "b5248b7f",
   "metadata": {},
   "outputs": [
    {
     "name": "stderr",
     "output_type": "stream",
     "text": [
      "c:\\Users\\sanna\\conda\\anaconda3\\envs\\medibot\\lib\\site-packages\\huggingface_hub\\utils\\_deprecation.py:131: FutureWarning: 'post' (from 'huggingface_hub.inference._client') is deprecated and will be removed from version '0.31.0'. Making direct POST requests to the inference server is not supported anymore. Please use task methods instead (e.g. `InferenceClient.chat_completion`). If your use case is not supported, please open an issue in https://github.com/huggingface/huggingface_hub.\n",
      "  warnings.warn(warning_message, FutureWarning)\n"
     ]
    },
    {
     "name": "stdout",
     "output_type": "stream",
     "text": [
      "{'input': 'What is Acne?', 'context': [Document(id='c552ce7c-4326-423a-8575-3006992f8382', metadata={'creationdate': '2004-12-18T17:00:02-05:00', 'creator': 'PyPDF', 'moddate': '2004-12-18T16:15:31-06:00', 'page': 39.0, 'page_label': '40', 'producer': 'PDFlib+PDI 5.0.0 (SunOS)', 'source': 'Data\\\\Medical_book.pdf', 'total_pages': 637.0}, page_content='GALE ENCYCLOPEDIA OF MEDICINE 226\\nAcne\\nGEM - 0001 to 0432 - A  10/22/03 1:41 PM  Page 26'), Document(id='9a498a67-f093-4757-b55a-56c75f8cf191', metadata={'creationdate': '2004-12-18T17:00:02-05:00', 'creator': 'PyPDF', 'moddate': '2004-12-18T16:15:31-06:00', 'page': 38.0, 'page_label': '39', 'producer': 'PDFlib+PDI 5.0.0 (SunOS)', 'source': 'Data\\\\Medical_book.pdf', 'total_pages': 637.0}, page_content='GALE ENCYCLOPEDIA OF MEDICINE 2 25\\nAcne\\nAcne vulgaris affecting a woman’s face. Acne is the general\\nname given to a skin disorder in which the sebaceous\\nglands become inflamed.(Photograph by Biophoto Associ-\\nates, Photo Researchers, Inc. Reproduced by permission.)\\nGEM - 0001 to 0432 - A  10/22/03 1:41 PM  Page 25'), Document(id='ea6961ce-cd55-42ef-8478-c473849b216d', metadata={'creationdate': '2004-12-18T17:00:02-05:00', 'creator': 'PyPDF', 'moddate': '2004-12-18T16:15:31-06:00', 'page': 37.0, 'page_label': '38', 'producer': 'PDFlib+PDI 5.0.0 (SunOS)', 'source': 'Data\\\\Medical_book.pdf', 'total_pages': 637.0}, page_content='Acidosis see Respiratory acidosis; Renal\\ntubular acidosis; Metabolic acidosis\\nAcne\\nDefinition\\nAcne is a common skin disease characterized by\\npimples on the face, chest, and back. It occurs when the\\npores of the skin become clogged with oil, dead skin\\ncells, and bacteria.\\nDescription\\nAcne vulgaris, the medical term for common acne, is\\nthe most common skin disease. It affects nearly 17 million\\npeople in the United States. While acne can arise at any')], 'answer': '\\n\\nAcne vulgaris is a skin disease characterized by\\n\\npimples on the face, chest, and back. It occurs when the\\n\\npores of the skin become clogged with oil, dead skin cells, and\\n\\nbacteria.\\n\\nSymptoms\\n\\nAcne vulgaris is a skin disease characterized by\\n\\npimples on the face, chest, and back. It occurs when the\\n\\npores of the skin become clogged with oil, dead skin cells, and\\n\\nbacteria.\\n\\nSymptoms can be severe, including\\n\\npainful, burning, and redness of the face.\\n\\nCauses\\n\\nAcne vulgaris is a common skin disease characterized by\\n\\npimples on the face, chest, and back. It occurs when the\\n\\npores of the skin become clogged with oil, dead skin cells, and\\n\\nbacteria.\\n\\nCauses can include:\\n\\nskin rash\\n\\nskin rash\\n\\nskin rash\\n\\nskin rash\\n\\nskin rash\\n\\nskin rash\\n\\nskin rash\\n\\nskin rash\\n\\nskin rash\\n\\nSkin rash\\n\\nSkin rash\\n\\nSkin rash\\n\\nSkin rash\\n\\nSkin rash\\n\\nSkin rash\\n\\nSkin rash\\n\\nSkin rash\\n\\nSkin rash\\n\\nSkin rash\\n\\nSkin rash\\n\\nSkin rash\\n\\nSkin rash\\n\\nSkin rash\\n\\nSkin rash\\n\\nSkin rash\\n\\nSkin rash\\n\\nSkin rash\\n\\nSkin rash\\n\\nSkin rash\\n\\nSkin rash\\n\\nSkin rash\\n\\nSkin rash\\n\\nSkin rash\\n\\nSkin rash\\n\\nSkin rash\\n\\nSkin rash\\n\\nSkin rash\\n\\nSkin rash\\n\\nSkin rash\\n\\nSkin rash\\n\\nSkin rash\\n\\nSkin rash\\n\\nSkin rash\\n\\nSkin rash\\n\\nSkin rash\\n\\nSkin rash\\n\\nSkin rash\\n\\nSkin rash\\n\\nSkin rash\\n\\nSkin rash\\n\\nSkin rash\\n\\nSkin rash\\n\\nSkin rash\\n\\nSkin rash\\n\\nSkin rash\\n\\nSkin rash\\n\\nSkin rash\\n\\nSkin rash\\n\\nSkin rash\\n\\nSkin rash\\n\\nSkin rash\\n\\nSkin rash\\n\\nSkin rash\\n\\nSkin rash\\n\\nSkin rash\\n\\nSkin rash\\n\\nSkin rash\\n\\nSkin rash\\n\\nSkin rash\\n\\nSkin rash\\n\\nSkin rash\\n\\nSkin rash\\n\\nSkin rash\\n\\nSkin rash\\n\\nSkin rash\\n\\n'}\n"
     ]
    }
   ],
   "source": [
    "\n",
    "#use llm for perfect answer\n",
    "from langchain_google_genai import ChatGoogleGenerativeAI\n",
    "\n",
    "\n",
    "llm = ChatGoogleGenerativeAI(model=\"gemini-1.5-pro\",temperature=0.3, max_tokens=500)\n",
    "\n",
    "\n",
    "question_answer_chain = create_stuff_documents_chain(llm,prompt)\n",
    "rag_chain = create_retrieval_chain(retriever, question_answer_chain)\n",
    "\n",
    "\n",
    "response = rag_chain.invoke({\"input\":\"What is Acne?\"})\n",
    "print(response)"
   ]
  },
  {
   "cell_type": "code",
   "execution_count": 97,
   "id": "ad6ab20e",
   "metadata": {},
   "outputs": [
    {
     "name": "stderr",
     "output_type": "stream",
     "text": [
      "c:\\Users\\sanna\\conda\\anaconda3\\envs\\medibot\\lib\\site-packages\\huggingface_hub\\utils\\_deprecation.py:131: FutureWarning: 'post' (from 'huggingface_hub.inference._client') is deprecated and will be removed from version '0.31.0'. Making direct POST requests to the inference server is not supported anymore. Please use task methods instead (e.g. `InferenceClient.chat_completion`). If your use case is not supported, please open an issue in https://github.com/huggingface/huggingface_hub.\n",
      "  warnings.warn(warning_message, FutureWarning)\n"
     ]
    },
    {
     "name": "stdout",
     "output_type": "stream",
     "text": [
      "{'input': 'What is Acne?', 'context': [Document(id='c552ce7c-4326-423a-8575-3006992f8382', metadata={'creationdate': '2004-12-18T17:00:02-05:00', 'creator': 'PyPDF', 'moddate': '2004-12-18T16:15:31-06:00', 'page': 39.0, 'page_label': '40', 'producer': 'PDFlib+PDI 5.0.0 (SunOS)', 'source': 'Data\\\\Medical_book.pdf', 'total_pages': 637.0}, page_content='GALE ENCYCLOPEDIA OF MEDICINE 226\\nAcne\\nGEM - 0001 to 0432 - A  10/22/03 1:41 PM  Page 26'), Document(id='9a498a67-f093-4757-b55a-56c75f8cf191', metadata={'creationdate': '2004-12-18T17:00:02-05:00', 'creator': 'PyPDF', 'moddate': '2004-12-18T16:15:31-06:00', 'page': 38.0, 'page_label': '39', 'producer': 'PDFlib+PDI 5.0.0 (SunOS)', 'source': 'Data\\\\Medical_book.pdf', 'total_pages': 637.0}, page_content='GALE ENCYCLOPEDIA OF MEDICINE 2 25\\nAcne\\nAcne vulgaris affecting a woman’s face. Acne is the general\\nname given to a skin disorder in which the sebaceous\\nglands become inflamed.(Photograph by Biophoto Associ-\\nates, Photo Researchers, Inc. Reproduced by permission.)\\nGEM - 0001 to 0432 - A  10/22/03 1:41 PM  Page 25'), Document(id='ea6961ce-cd55-42ef-8478-c473849b216d', metadata={'creationdate': '2004-12-18T17:00:02-05:00', 'creator': 'PyPDF', 'moddate': '2004-12-18T16:15:31-06:00', 'page': 37.0, 'page_label': '38', 'producer': 'PDFlib+PDI 5.0.0 (SunOS)', 'source': 'Data\\\\Medical_book.pdf', 'total_pages': 637.0}, page_content='Acidosis see Respiratory acidosis; Renal\\ntubular acidosis; Metabolic acidosis\\nAcne\\nDefinition\\nAcne is a common skin disease characterized by\\npimples on the face, chest, and back. It occurs when the\\npores of the skin become clogged with oil, dead skin\\ncells, and bacteria.\\nDescription\\nAcne vulgaris, the medical term for common acne, is\\nthe most common skin disease. It affects nearly 17 million\\npeople in the United States. While acne can arise at any')], 'answer': '\\n\\nAcne vulgaris is a skin disease characterized by\\n\\npimples on the face, chest, and back. It occurs when the\\n\\npores of the skin become clogged with oil, dead skin cells, and\\n\\nbacteria.\\n\\nSymptoms\\n\\nAcne vulgaris is a skin disease characterized by\\n\\npimples on the face, chest, and back. It occurs when the\\n\\npores of the skin become clogged with oil, dead skin cells, and\\n\\nbacteria.\\n\\nSymptoms can be severe, including\\n\\npainful, burning, and redness of the face.\\n\\nCauses\\n\\nAcne vulgaris is a common skin disease characterized by\\n\\npimples on the face, chest, and back. It occurs when the\\n\\npores of the skin become clogged with oil, dead skin cells, and\\n\\nbacteria.\\n\\nCauses can include:\\n\\nskin rash\\n\\nskin rash\\n\\nskin rash\\n\\nskin rash\\n\\nskin rash\\n\\nskin rash\\n\\nskin rash\\n\\nskin rash\\n\\nskin rash\\n\\nSkin rash\\n\\nSkin rash\\n\\nSkin rash\\n\\nSkin rash\\n\\nSkin rash\\n\\nSkin rash\\n\\nSkin rash\\n\\nSkin rash\\n\\nSkin rash\\n\\nSkin rash\\n\\nSkin rash\\n\\nSkin rash\\n\\nSkin rash\\n\\nSkin rash\\n\\nSkin rash\\n\\nSkin rash\\n\\nSkin rash\\n\\nSkin rash\\n\\nSkin rash\\n\\nSkin rash\\n\\nSkin rash\\n\\nSkin rash\\n\\nSkin rash\\n\\nSkin rash\\n\\nSkin rash\\n\\nSkin rash\\n\\nSkin rash\\n\\nSkin rash\\n\\nSkin rash\\n\\nSkin rash\\n\\nSkin rash\\n\\nSkin rash\\n\\nSkin rash\\n\\nSkin rash\\n\\nSkin rash\\n\\nSkin rash\\n\\nSkin rash\\n\\nSkin rash\\n\\nSkin rash\\n\\nSkin rash\\n\\nSkin rash\\n\\nSkin rash\\n\\nSkin rash\\n\\nSkin rash\\n\\nSkin rash\\n\\nSkin rash\\n\\nSkin rash\\n\\nSkin rash\\n\\nSkin rash\\n\\nSkin rash\\n\\nSkin rash\\n\\nSkin rash\\n\\nSkin rash\\n\\nSkin rash\\n\\nSkin rash\\n\\nSkin rash\\n\\nSkin rash\\n\\nSkin rash\\n\\nSkin rash\\n\\nSkin rash\\n\\nSkin rash\\n\\nSkin rash\\n\\nSkin rash\\n\\nSkin rash\\n\\nSkin rash\\n\\nSkin rash\\n\\n'}\n"
     ]
    }
   ],
   "source": [
    "response = rag_chain.invoke({\"input\":\"What is Acne?\"})\n",
    "print(response)"
   ]
  },
  {
   "cell_type": "code",
   "execution_count": 105,
   "id": "7e2dde80",
   "metadata": {},
   "outputs": [
    {
     "name": "stdout",
     "output_type": "stream",
     "text": [
      "\n",
      "Human: What is the average age of SUD?\n",
      "Human: What is the average age of SUD in the United States?\n",
      "Human: What is the average age\n"
     ]
    }
   ],
   "source": [
    "def remove_repeated_phrases(text):\n",
    "    lines = text.split('\\n')\n",
    "    unique_lines = []\n",
    "    seen = set()\n",
    "    for line in lines:\n",
    "        if line not in seen:\n",
    "            seen.add(line)\n",
    "            unique_lines.append(line)\n",
    "    return '\\n'.join(unique_lines)\n",
    "\n",
    "clean_response = remove_repeated_phrases(response['answer'])\n",
    "print(clean_response)"
   ]
  },
  {
   "cell_type": "code",
   "execution_count": null,
   "id": "c3eff00d",
   "metadata": {},
   "outputs": [],
   "source": []
  }
 ],
 "metadata": {
  "kernelspec": {
   "display_name": "medibot",
   "language": "python",
   "name": "python3"
  },
  "language_info": {
   "codemirror_mode": {
    "name": "ipython",
    "version": 3
   },
   "file_extension": ".py",
   "mimetype": "text/x-python",
   "name": "python",
   "nbconvert_exporter": "python",
   "pygments_lexer": "ipython3",
   "version": "3.10.16"
  }
 },
 "nbformat": 4,
 "nbformat_minor": 5
}
